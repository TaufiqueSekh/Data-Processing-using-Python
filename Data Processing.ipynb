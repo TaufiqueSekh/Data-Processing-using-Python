{
 "cells": [
  {
   "cell_type": "markdown",
   "id": "b06ff763-9d81-4105-a623-51b96c8e140d",
   "metadata": {},
   "source": [
    "## Import all Library"
   ]
  },
  {
   "cell_type": "code",
   "execution_count": 87,
   "id": "2e39fb94-cad9-488e-af90-77cb51f83e99",
   "metadata": {},
   "outputs": [],
   "source": [
    "import pandas as pd\n",
    "import numpy as np\n",
    "import matplotlib.pyplot as plt"
   ]
  },
  {
   "cell_type": "code",
   "execution_count": 88,
   "id": "6a45f7fe-982e-4355-9952-701e33b59438",
   "metadata": {},
   "outputs": [],
   "source": [
    "df=pd.read_excel('data_processing.xlsx')"
   ]
  },
  {
   "cell_type": "code",
   "execution_count": 89,
   "id": "e882121b-3067-4ab3-97c8-9a78ffad740a",
   "metadata": {},
   "outputs": [
    {
     "data": {
      "text/html": [
       "<div>\n",
       "<style scoped>\n",
       "    .dataframe tbody tr th:only-of-type {\n",
       "        vertical-align: middle;\n",
       "    }\n",
       "\n",
       "    .dataframe tbody tr th {\n",
       "        vertical-align: top;\n",
       "    }\n",
       "\n",
       "    .dataframe thead th {\n",
       "        text-align: right;\n",
       "    }\n",
       "</style>\n",
       "<table border=\"1\" class=\"dataframe\">\n",
       "  <thead>\n",
       "    <tr style=\"text-align: right;\">\n",
       "      <th></th>\n",
       "      <th>Country</th>\n",
       "      <th>Age</th>\n",
       "      <th>Salary</th>\n",
       "      <th>Purchased</th>\n",
       "    </tr>\n",
       "  </thead>\n",
       "  <tbody>\n",
       "    <tr>\n",
       "      <th>0</th>\n",
       "      <td>France</td>\n",
       "      <td>44.0</td>\n",
       "      <td>72000.0</td>\n",
       "      <td>No</td>\n",
       "    </tr>\n",
       "    <tr>\n",
       "      <th>1</th>\n",
       "      <td>NaN</td>\n",
       "      <td>27.0</td>\n",
       "      <td>48000.0</td>\n",
       "      <td>Yes</td>\n",
       "    </tr>\n",
       "    <tr>\n",
       "      <th>2</th>\n",
       "      <td>Germany</td>\n",
       "      <td>NaN</td>\n",
       "      <td>54000.0</td>\n",
       "      <td>No</td>\n",
       "    </tr>\n",
       "    <tr>\n",
       "      <th>3</th>\n",
       "      <td>Spain</td>\n",
       "      <td>39.0</td>\n",
       "      <td>NaN</td>\n",
       "      <td>No</td>\n",
       "    </tr>\n",
       "    <tr>\n",
       "      <th>4</th>\n",
       "      <td>Germany</td>\n",
       "      <td>NaN</td>\n",
       "      <td>64000.0</td>\n",
       "      <td>Yes</td>\n",
       "    </tr>\n",
       "    <tr>\n",
       "      <th>5</th>\n",
       "      <td>France</td>\n",
       "      <td>35.0</td>\n",
       "      <td>58000.0</td>\n",
       "      <td>Yes</td>\n",
       "    </tr>\n",
       "    <tr>\n",
       "      <th>6</th>\n",
       "      <td>Spain</td>\n",
       "      <td>39.0</td>\n",
       "      <td>52000.0</td>\n",
       "      <td>No</td>\n",
       "    </tr>\n",
       "    <tr>\n",
       "      <th>7</th>\n",
       "      <td>France</td>\n",
       "      <td>48.0</td>\n",
       "      <td>NaN</td>\n",
       "      <td>Yes</td>\n",
       "    </tr>\n",
       "    <tr>\n",
       "      <th>8</th>\n",
       "      <td>Germany</td>\n",
       "      <td>50.0</td>\n",
       "      <td>83000.0</td>\n",
       "      <td>No</td>\n",
       "    </tr>\n",
       "    <tr>\n",
       "      <th>9</th>\n",
       "      <td>France</td>\n",
       "      <td>37.0</td>\n",
       "      <td>67000.0</td>\n",
       "      <td>Yes</td>\n",
       "    </tr>\n",
       "  </tbody>\n",
       "</table>\n",
       "</div>"
      ],
      "text/plain": [
       "   Country   Age   Salary Purchased\n",
       "0   France  44.0  72000.0        No\n",
       "1      NaN  27.0  48000.0       Yes\n",
       "2  Germany   NaN  54000.0        No\n",
       "3    Spain  39.0      NaN        No\n",
       "4  Germany   NaN  64000.0       Yes\n",
       "5   France  35.0  58000.0       Yes\n",
       "6    Spain  39.0  52000.0        No\n",
       "7   France  48.0      NaN       Yes\n",
       "8  Germany  50.0  83000.0        No\n",
       "9   France  37.0  67000.0       Yes"
      ]
     },
     "execution_count": 89,
     "metadata": {},
     "output_type": "execute_result"
    }
   ],
   "source": [
    "df"
   ]
  },
  {
   "cell_type": "code",
   "execution_count": 90,
   "id": "41e82fa8-6f01-4d37-8df9-e8f7bc01905e",
   "metadata": {},
   "outputs": [],
   "source": [
    "x=df.iloc[:,:-1].values"
   ]
  },
  {
   "cell_type": "code",
   "execution_count": 91,
   "id": "a6818f06-eb83-4c53-a763-01c018f7f760",
   "metadata": {},
   "outputs": [
    {
     "data": {
      "text/plain": [
       "array([['France', 44.0, 72000.0],\n",
       "       [nan, 27.0, 48000.0],\n",
       "       ['Germany', nan, 54000.0],\n",
       "       ['Spain', 39.0, nan],\n",
       "       ['Germany', nan, 64000.0],\n",
       "       ['France', 35.0, 58000.0],\n",
       "       ['Spain', 39.0, 52000.0],\n",
       "       ['France', 48.0, nan],\n",
       "       ['Germany', 50.0, 83000.0],\n",
       "       ['France', 37.0, 67000.0]], dtype=object)"
      ]
     },
     "execution_count": 91,
     "metadata": {},
     "output_type": "execute_result"
    }
   ],
   "source": [
    "x"
   ]
  },
  {
   "cell_type": "code",
   "execution_count": 92,
   "id": "95d6dc9c-8bc5-48ae-9a6f-e6ef9a549ef6",
   "metadata": {},
   "outputs": [],
   "source": [
    "y=df.iloc[:,-1].values"
   ]
  },
  {
   "cell_type": "code",
   "execution_count": 93,
   "id": "06570a68-0043-4450-8ca5-efec70168905",
   "metadata": {},
   "outputs": [
    {
     "data": {
      "text/plain": [
       "array(['No', 'Yes', 'No', 'No', 'Yes', 'Yes', 'No', 'Yes', 'No', 'Yes'],\n",
       "      dtype=object)"
      ]
     },
     "execution_count": 93,
     "metadata": {},
     "output_type": "execute_result"
    }
   ],
   "source": [
    "y"
   ]
  },
  {
   "cell_type": "markdown",
   "id": "25a0df82-ea7c-47bc-a565-ee07ede2cb71",
   "metadata": {},
   "source": [
    "## Missing Value Treatment"
   ]
  },
  {
   "cell_type": "code",
   "execution_count": 94,
   "id": "c31ae45a-e950-4d6b-baff-28587a527cf5",
   "metadata": {},
   "outputs": [],
   "source": [
    "from sklearn.impute import SimpleImputer\n",
    "si=SimpleImputer(missing_values=np.nan,strategy='most_frequent')"
   ]
  },
  {
   "cell_type": "code",
   "execution_count": 95,
   "id": "a020778f-7b5f-4394-b3b7-c75e9cb0d8e8",
   "metadata": {},
   "outputs": [],
   "source": [
    "si=si.fit(x[:,:1])"
   ]
  },
  {
   "cell_type": "code",
   "execution_count": 96,
   "id": "9f2e2564-2b05-450b-85dc-1fafa38642b9",
   "metadata": {},
   "outputs": [],
   "source": [
    "x[:,:1]=si.transform(x[:,:1])"
   ]
  },
  {
   "cell_type": "code",
   "execution_count": 97,
   "id": "8ae61349-e0b6-4cf6-8f42-bcefda0da271",
   "metadata": {},
   "outputs": [
    {
     "data": {
      "text/plain": [
       "array([['France', 44.0, 72000.0],\n",
       "       ['France', 27.0, 48000.0],\n",
       "       ['Germany', nan, 54000.0],\n",
       "       ['Spain', 39.0, nan],\n",
       "       ['Germany', nan, 64000.0],\n",
       "       ['France', 35.0, 58000.0],\n",
       "       ['Spain', 39.0, 52000.0],\n",
       "       ['France', 48.0, nan],\n",
       "       ['Germany', 50.0, 83000.0],\n",
       "       ['France', 37.0, 67000.0]], dtype=object)"
      ]
     },
     "execution_count": 97,
     "metadata": {},
     "output_type": "execute_result"
    }
   ],
   "source": [
    "x"
   ]
  },
  {
   "cell_type": "code",
   "execution_count": 101,
   "id": "cf6025e8-3c18-4ded-843a-4616a2193d8f",
   "metadata": {},
   "outputs": [],
   "source": [
    "si=SimpleImputer(missing_values=np.nan,strategy='mean')\n",
    "si=si.fit(x[:,1:2])\n",
    "x[:,1:2]=si.transform(x[:,1:2])"
   ]
  },
  {
   "cell_type": "code",
   "execution_count": 102,
   "id": "ca164e70-f3d6-4b0c-940c-f6b59fd3ae3a",
   "metadata": {},
   "outputs": [
    {
     "data": {
      "text/plain": [
       "array([['France', 44.0, 72000.0],\n",
       "       ['France', 27.0, 48000.0],\n",
       "       ['Germany', 39.875, 54000.0],\n",
       "       ['Spain', 39.0, 62250.0],\n",
       "       ['Germany', 39.875, 64000.0],\n",
       "       ['France', 35.0, 58000.0],\n",
       "       ['Spain', 39.0, 52000.0],\n",
       "       ['France', 48.0, 62250.0],\n",
       "       ['Germany', 50.0, 83000.0],\n",
       "       ['France', 37.0, 67000.0]], dtype=object)"
      ]
     },
     "execution_count": 102,
     "metadata": {},
     "output_type": "execute_result"
    }
   ],
   "source": [
    "x"
   ]
  },
  {
   "cell_type": "code",
   "execution_count": 103,
   "id": "f48aef9a-3646-4002-9811-1f530a820018",
   "metadata": {},
   "outputs": [],
   "source": [
    "sii=SimpleImputer(missing_values=np.nan,strategy='mean')\n",
    "sii=sii.fit(x[:,2:3])\n",
    "x[:,2:3]=sii.transform(x[:,2:3])"
   ]
  },
  {
   "cell_type": "code",
   "execution_count": 104,
   "id": "2838e143-d560-489c-9557-cf4cea2544d2",
   "metadata": {},
   "outputs": [
    {
     "data": {
      "text/plain": [
       "array([['France', 44.0, 72000.0],\n",
       "       ['France', 27.0, 48000.0],\n",
       "       ['Germany', 39.875, 54000.0],\n",
       "       ['Spain', 39.0, 62250.0],\n",
       "       ['Germany', 39.875, 64000.0],\n",
       "       ['France', 35.0, 58000.0],\n",
       "       ['Spain', 39.0, 52000.0],\n",
       "       ['France', 48.0, 62250.0],\n",
       "       ['Germany', 50.0, 83000.0],\n",
       "       ['France', 37.0, 67000.0]], dtype=object)"
      ]
     },
     "execution_count": 104,
     "metadata": {},
     "output_type": "execute_result"
    }
   ],
   "source": [
    "x"
   ]
  },
  {
   "cell_type": "markdown",
   "id": "3ede2bfd-fcc6-4d15-abb7-34b1831a5866",
   "metadata": {},
   "source": [
    "# Label Encoding"
   ]
  },
  {
   "cell_type": "code",
   "execution_count": 105,
   "id": "152ed47c-221e-40a0-9929-d2e541de0a77",
   "metadata": {},
   "outputs": [],
   "source": [
    "from sklearn.preprocessing import LabelEncoder"
   ]
  },
  {
   "cell_type": "code",
   "execution_count": 106,
   "id": "21e17845-62d9-474d-ba24-d379950b3850",
   "metadata": {},
   "outputs": [],
   "source": [
    "label_x=LabelEncoder()"
   ]
  },
  {
   "cell_type": "code",
   "execution_count": 107,
   "id": "4e811379-c6e9-4163-b7bb-abe56224c53c",
   "metadata": {},
   "outputs": [],
   "source": [
    "x[:,0]=label_x.fit_transform(x[:,0])"
   ]
  },
  {
   "cell_type": "code",
   "execution_count": 108,
   "id": "d927e10a-0e5c-4fa7-ae10-2b3e2702ce40",
   "metadata": {},
   "outputs": [
    {
     "data": {
      "text/plain": [
       "array([[0, 44.0, 72000.0],\n",
       "       [0, 27.0, 48000.0],\n",
       "       [1, 39.875, 54000.0],\n",
       "       [2, 39.0, 62250.0],\n",
       "       [1, 39.875, 64000.0],\n",
       "       [0, 35.0, 58000.0],\n",
       "       [2, 39.0, 52000.0],\n",
       "       [0, 48.0, 62250.0],\n",
       "       [1, 50.0, 83000.0],\n",
       "       [0, 37.0, 67000.0]], dtype=object)"
      ]
     },
     "execution_count": 108,
     "metadata": {},
     "output_type": "execute_result"
    }
   ],
   "source": [
    "x"
   ]
  },
  {
   "cell_type": "markdown",
   "id": "4cdd9e65-fcde-4089-bce6-778d027debc8",
   "metadata": {},
   "source": [
    "# One Hot Encoding"
   ]
  },
  {
   "cell_type": "code",
   "execution_count": 109,
   "id": "6998bc96-2cce-414b-b521-d9684e0a6d1f",
   "metadata": {},
   "outputs": [],
   "source": [
    "from sklearn.compose import ColumnTransformer\n",
    "from sklearn.preprocessing import OneHotEncoder\n",
    "ct=ColumnTransformer(transformers=[('onehot',OneHotEncoder(),[0])],remainder='passthrough')"
   ]
  },
  {
   "cell_type": "code",
   "execution_count": 110,
   "id": "01a6c41b-2ec4-43f0-bfc6-356e32884c60",
   "metadata": {},
   "outputs": [],
   "source": [
    "x=ct.fit_transform(x)"
   ]
  },
  {
   "cell_type": "code",
   "execution_count": 111,
   "id": "9cf38251-b1c0-4aeb-b36d-01f550fad3c1",
   "metadata": {},
   "outputs": [
    {
     "data": {
      "text/plain": [
       "array([[1.0, 0.0, 0.0, 44.0, 72000.0],\n",
       "       [1.0, 0.0, 0.0, 27.0, 48000.0],\n",
       "       [0.0, 1.0, 0.0, 39.875, 54000.0],\n",
       "       [0.0, 0.0, 1.0, 39.0, 62250.0],\n",
       "       [0.0, 1.0, 0.0, 39.875, 64000.0],\n",
       "       [1.0, 0.0, 0.0, 35.0, 58000.0],\n",
       "       [0.0, 0.0, 1.0, 39.0, 52000.0],\n",
       "       [1.0, 0.0, 0.0, 48.0, 62250.0],\n",
       "       [0.0, 1.0, 0.0, 50.0, 83000.0],\n",
       "       [1.0, 0.0, 0.0, 37.0, 67000.0]], dtype=object)"
      ]
     },
     "execution_count": 111,
     "metadata": {},
     "output_type": "execute_result"
    }
   ],
   "source": [
    "x"
   ]
  },
  {
   "cell_type": "code",
   "execution_count": 112,
   "id": "5f9da29a-71f3-4a39-8eca-2bbcaac0d50d",
   "metadata": {},
   "outputs": [
    {
     "data": {
      "text/plain": [
       "array([0, 1, 0, 0, 1, 1, 0, 1, 0, 1])"
      ]
     },
     "execution_count": 112,
     "metadata": {},
     "output_type": "execute_result"
    }
   ],
   "source": [
    "#label Encoding of Y (dependent variable)\n",
    "from sklearn.preprocessing import LabelEncoder\n",
    "le=LabelEncoder()\n",
    "y=le.fit_transform(y)\n",
    "y"
   ]
  },
  {
   "cell_type": "code",
   "execution_count": 113,
   "id": "81830058-6496-487e-bed2-7049adb6a249",
   "metadata": {},
   "outputs": [],
   "source": [
    "from sklearn.preprocessing import StandardScaler"
   ]
  },
  {
   "cell_type": "code",
   "execution_count": 114,
   "id": "f73d4929-cf4d-4626-868c-d73ca7fc7319",
   "metadata": {},
   "outputs": [
    {
     "data": {
      "text/html": [
       "<div>\n",
       "<style scoped>\n",
       "    .dataframe tbody tr th:only-of-type {\n",
       "        vertical-align: middle;\n",
       "    }\n",
       "\n",
       "    .dataframe tbody tr th {\n",
       "        vertical-align: top;\n",
       "    }\n",
       "\n",
       "    .dataframe thead th {\n",
       "        text-align: right;\n",
       "    }\n",
       "</style>\n",
       "<table border=\"1\" class=\"dataframe\">\n",
       "  <thead>\n",
       "    <tr style=\"text-align: right;\">\n",
       "      <th></th>\n",
       "      <th>0</th>\n",
       "      <th>1</th>\n",
       "      <th>2</th>\n",
       "      <th>3</th>\n",
       "      <th>4</th>\n",
       "    </tr>\n",
       "  </thead>\n",
       "  <tbody>\n",
       "    <tr>\n",
       "      <th>0</th>\n",
       "      <td>1.0</td>\n",
       "      <td>-0.654654</td>\n",
       "      <td>-0.5</td>\n",
       "      <td>0.664912</td>\n",
       "      <td>1.002707</td>\n",
       "    </tr>\n",
       "    <tr>\n",
       "      <th>1</th>\n",
       "      <td>1.0</td>\n",
       "      <td>-0.654654</td>\n",
       "      <td>-0.5</td>\n",
       "      <td>-2.075331</td>\n",
       "      <td>-1.465494</td>\n",
       "    </tr>\n",
       "    <tr>\n",
       "      <th>2</th>\n",
       "      <td>-1.0</td>\n",
       "      <td>1.527525</td>\n",
       "      <td>-0.5</td>\n",
       "      <td>0.000000</td>\n",
       "      <td>-0.848444</td>\n",
       "    </tr>\n",
       "    <tr>\n",
       "      <th>3</th>\n",
       "      <td>-1.0</td>\n",
       "      <td>-0.654654</td>\n",
       "      <td>2.0</td>\n",
       "      <td>-0.141042</td>\n",
       "      <td>0.000000</td>\n",
       "    </tr>\n",
       "    <tr>\n",
       "      <th>4</th>\n",
       "      <td>-1.0</td>\n",
       "      <td>1.527525</td>\n",
       "      <td>-0.5</td>\n",
       "      <td>0.000000</td>\n",
       "      <td>0.179973</td>\n",
       "    </tr>\n",
       "    <tr>\n",
       "      <th>5</th>\n",
       "      <td>1.0</td>\n",
       "      <td>-0.654654</td>\n",
       "      <td>-0.5</td>\n",
       "      <td>-0.785805</td>\n",
       "      <td>-0.437077</td>\n",
       "    </tr>\n",
       "    <tr>\n",
       "      <th>6</th>\n",
       "      <td>-1.0</td>\n",
       "      <td>-0.654654</td>\n",
       "      <td>2.0</td>\n",
       "      <td>-0.141042</td>\n",
       "      <td>-1.054127</td>\n",
       "    </tr>\n",
       "    <tr>\n",
       "      <th>7</th>\n",
       "      <td>1.0</td>\n",
       "      <td>-0.654654</td>\n",
       "      <td>-0.5</td>\n",
       "      <td>1.309675</td>\n",
       "      <td>0.000000</td>\n",
       "    </tr>\n",
       "    <tr>\n",
       "      <th>8</th>\n",
       "      <td>-1.0</td>\n",
       "      <td>1.527525</td>\n",
       "      <td>-0.5</td>\n",
       "      <td>1.632056</td>\n",
       "      <td>2.133965</td>\n",
       "    </tr>\n",
       "    <tr>\n",
       "      <th>9</th>\n",
       "      <td>1.0</td>\n",
       "      <td>-0.654654</td>\n",
       "      <td>-0.5</td>\n",
       "      <td>-0.463423</td>\n",
       "      <td>0.488498</td>\n",
       "    </tr>\n",
       "  </tbody>\n",
       "</table>\n",
       "</div>"
      ],
      "text/plain": [
       "     0         1    2         3         4\n",
       "0  1.0 -0.654654 -0.5  0.664912  1.002707\n",
       "1  1.0 -0.654654 -0.5 -2.075331 -1.465494\n",
       "2 -1.0  1.527525 -0.5  0.000000 -0.848444\n",
       "3 -1.0 -0.654654  2.0 -0.141042  0.000000\n",
       "4 -1.0  1.527525 -0.5  0.000000  0.179973\n",
       "5  1.0 -0.654654 -0.5 -0.785805 -0.437077\n",
       "6 -1.0 -0.654654  2.0 -0.141042 -1.054127\n",
       "7  1.0 -0.654654 -0.5  1.309675  0.000000\n",
       "8 -1.0  1.527525 -0.5  1.632056  2.133965\n",
       "9  1.0 -0.654654 -0.5 -0.463423  0.488498"
      ]
     },
     "execution_count": 114,
     "metadata": {},
     "output_type": "execute_result"
    }
   ],
   "source": [
    "ss=StandardScaler()\n",
    "x_std=ss.fit_transform(x)\n",
    "x_std=pd.DataFrame(x_std)\n",
    "x_std"
   ]
  },
  {
   "cell_type": "markdown",
   "id": "a0fa02c8-d1ba-4a11-b18f-2e756f41ae68",
   "metadata": {},
   "source": [
    "### Using Standard Scaler , we are getting negative number so we will use Min max Scaler"
   ]
  },
  {
   "cell_type": "code",
   "execution_count": 115,
   "id": "37e0211b-14a5-49e2-9580-bc9d55a1435d",
   "metadata": {},
   "outputs": [],
   "source": [
    "from sklearn.preprocessing import MinMaxScaler"
   ]
  },
  {
   "cell_type": "code",
   "execution_count": 116,
   "id": "6b501f82-8cb3-4063-88a3-d58a70572968",
   "metadata": {},
   "outputs": [],
   "source": [
    "ms=MinMaxScaler()"
   ]
  },
  {
   "cell_type": "code",
   "execution_count": 117,
   "id": "310671e8-75a9-4e63-ab6d-fc0dd2658cae",
   "metadata": {},
   "outputs": [],
   "source": [
    "x_ms=pd.DataFrame(ms.fit_transform(x))"
   ]
  },
  {
   "cell_type": "code",
   "execution_count": 118,
   "id": "87823409-cf16-4df1-bbb5-bd62f222a82e",
   "metadata": {},
   "outputs": [
    {
     "data": {
      "text/html": [
       "<div>\n",
       "<style scoped>\n",
       "    .dataframe tbody tr th:only-of-type {\n",
       "        vertical-align: middle;\n",
       "    }\n",
       "\n",
       "    .dataframe tbody tr th {\n",
       "        vertical-align: top;\n",
       "    }\n",
       "\n",
       "    .dataframe thead th {\n",
       "        text-align: right;\n",
       "    }\n",
       "</style>\n",
       "<table border=\"1\" class=\"dataframe\">\n",
       "  <thead>\n",
       "    <tr style=\"text-align: right;\">\n",
       "      <th></th>\n",
       "      <th>0</th>\n",
       "      <th>1</th>\n",
       "      <th>2</th>\n",
       "      <th>3</th>\n",
       "      <th>4</th>\n",
       "    </tr>\n",
       "  </thead>\n",
       "  <tbody>\n",
       "    <tr>\n",
       "      <th>0</th>\n",
       "      <td>1.0</td>\n",
       "      <td>0.0</td>\n",
       "      <td>0.0</td>\n",
       "      <td>0.739130</td>\n",
       "      <td>0.685714</td>\n",
       "    </tr>\n",
       "    <tr>\n",
       "      <th>1</th>\n",
       "      <td>1.0</td>\n",
       "      <td>0.0</td>\n",
       "      <td>0.0</td>\n",
       "      <td>0.000000</td>\n",
       "      <td>0.000000</td>\n",
       "    </tr>\n",
       "    <tr>\n",
       "      <th>2</th>\n",
       "      <td>0.0</td>\n",
       "      <td>1.0</td>\n",
       "      <td>0.0</td>\n",
       "      <td>0.559783</td>\n",
       "      <td>0.171429</td>\n",
       "    </tr>\n",
       "    <tr>\n",
       "      <th>3</th>\n",
       "      <td>0.0</td>\n",
       "      <td>0.0</td>\n",
       "      <td>1.0</td>\n",
       "      <td>0.521739</td>\n",
       "      <td>0.407143</td>\n",
       "    </tr>\n",
       "    <tr>\n",
       "      <th>4</th>\n",
       "      <td>0.0</td>\n",
       "      <td>1.0</td>\n",
       "      <td>0.0</td>\n",
       "      <td>0.559783</td>\n",
       "      <td>0.457143</td>\n",
       "    </tr>\n",
       "    <tr>\n",
       "      <th>5</th>\n",
       "      <td>1.0</td>\n",
       "      <td>0.0</td>\n",
       "      <td>0.0</td>\n",
       "      <td>0.347826</td>\n",
       "      <td>0.285714</td>\n",
       "    </tr>\n",
       "    <tr>\n",
       "      <th>6</th>\n",
       "      <td>0.0</td>\n",
       "      <td>0.0</td>\n",
       "      <td>1.0</td>\n",
       "      <td>0.521739</td>\n",
       "      <td>0.114286</td>\n",
       "    </tr>\n",
       "    <tr>\n",
       "      <th>7</th>\n",
       "      <td>1.0</td>\n",
       "      <td>0.0</td>\n",
       "      <td>0.0</td>\n",
       "      <td>0.913043</td>\n",
       "      <td>0.407143</td>\n",
       "    </tr>\n",
       "    <tr>\n",
       "      <th>8</th>\n",
       "      <td>0.0</td>\n",
       "      <td>1.0</td>\n",
       "      <td>0.0</td>\n",
       "      <td>1.000000</td>\n",
       "      <td>1.000000</td>\n",
       "    </tr>\n",
       "    <tr>\n",
       "      <th>9</th>\n",
       "      <td>1.0</td>\n",
       "      <td>0.0</td>\n",
       "      <td>0.0</td>\n",
       "      <td>0.434783</td>\n",
       "      <td>0.542857</td>\n",
       "    </tr>\n",
       "  </tbody>\n",
       "</table>\n",
       "</div>"
      ],
      "text/plain": [
       "     0    1    2         3         4\n",
       "0  1.0  0.0  0.0  0.739130  0.685714\n",
       "1  1.0  0.0  0.0  0.000000  0.000000\n",
       "2  0.0  1.0  0.0  0.559783  0.171429\n",
       "3  0.0  0.0  1.0  0.521739  0.407143\n",
       "4  0.0  1.0  0.0  0.559783  0.457143\n",
       "5  1.0  0.0  0.0  0.347826  0.285714\n",
       "6  0.0  0.0  1.0  0.521739  0.114286\n",
       "7  1.0  0.0  0.0  0.913043  0.407143\n",
       "8  0.0  1.0  0.0  1.000000  1.000000\n",
       "9  1.0  0.0  0.0  0.434783  0.542857"
      ]
     },
     "execution_count": 118,
     "metadata": {},
     "output_type": "execute_result"
    }
   ],
   "source": [
    "x_ms"
   ]
  },
  {
   "cell_type": "code",
   "execution_count": null,
   "id": "41f8dc69-da3e-43d6-8d05-6147d3d2bc17",
   "metadata": {},
   "outputs": [],
   "source": []
  }
 ],
 "metadata": {
  "kernelspec": {
   "display_name": "anaconda-2022.05-py39",
   "language": "python",
   "name": "conda-env-anaconda-2022.05-py39-py"
  },
  "language_info": {
   "codemirror_mode": {
    "name": "ipython",
    "version": 3
   },
   "file_extension": ".py",
   "mimetype": "text/x-python",
   "name": "python",
   "nbconvert_exporter": "python",
   "pygments_lexer": "ipython3",
   "version": "3.9.12"
  }
 },
 "nbformat": 4,
 "nbformat_minor": 5
}
